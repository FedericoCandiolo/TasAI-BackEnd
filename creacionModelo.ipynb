{
 "cells": [
  {
   "cell_type": "code",
   "execution_count": 12,
   "id": "0a4bd8b3-17d4-4099-ac87-ce17657c9c05",
   "metadata": {},
   "outputs": [],
   "source": [
    "import pandas as pd\n",
    "import matplotlib.pyplot as plt\n",
    "import seaborn as sns\n",
    "import sklearn\n",
    "from sklearn.metrics import mean_squared_error, r2_score, mean_absolute_error\n",
    "from sklearn.model_selection import train_test_split\n",
    "from sklearn.preprocessing import StandardScaler\n",
    "from sklearn.ensemble import RandomForestRegressor\n",
    "import joblib"
   ]
  },
  {
   "cell_type": "code",
   "execution_count": 2,
   "id": "750abf9e-6b4f-4bba-afb4-6b5dcc2df229",
   "metadata": {},
   "outputs": [],
   "source": [
    "data = pd.read_csv (r'total.csv', encoding= 'unicode_escape', low_memory=False)\n",
    "df = pd.DataFrame(data)"
   ]
  },
  {
   "cell_type": "code",
   "execution_count": 3,
   "id": "02589aef-4e40-4406-a752-fd3865ecced7",
   "metadata": {},
   "outputs": [],
   "source": [
    "table = pd.DataFrame()\n",
    "table[['metros', 'ambientes', 'banio', 'cochera', 'dormitorios', 'ciudad', 'precioxLocalidad', 'parrilla', 'patio',\n",
    "         'lavadero', 'toilette', 'A/C', 'balcon', 'pileta', 'precio']] = df[ ['metros', 'ambientes', 'banio', 'cochera',\n",
    "        'dormitorios', 'ciudad', 'precioxLocalidad', 'parrilla', 'patio', 'lavadero', 'toilette', 'A/C', 'balcon', 'pileta', 'precio']]\n",
    "\n",
    "table = table.fillna(0)\n",
    "\n",
    "table = table.astype({'metros': 'int', 'ambientes': 'int', 'banio': 'int', 'cochera': 'int', 'dormitorios': 'int',\n",
    "                        'precioxLocalidad': 'int', 'parrilla': 'int', 'patio': 'int', 'lavadero': 'int', 'toilette': 'int',\n",
    "                        'A/C': 'int', 'balcon': 'int', 'pileta': 'int', 'precio': 'int'})"
   ]
  },
  {
   "cell_type": "code",
   "execution_count": 4,
   "id": "a3b2f58a-6757-4a91-8f47-9a1080d1c017",
   "metadata": {},
   "outputs": [],
   "source": [
    "table = table.drop(table[table['precio'] == 0].index)\n",
    "table = table.drop(table[table['metros'] <= 0].index)\n",
    "table = table.drop(table[table['metros'] >= 250].index)\n",
    "table = table.drop(table[table['ambientes'] == 0].index)\n",
    "table = table.drop_duplicates()\n",
    "#print(table.count())\n",
    "#table.head()"
   ]
  },
  {
   "cell_type": "code",
   "execution_count": 5,
   "id": "f4f10cb6-6201-4952-a56e-9b90f10a3f02",
   "metadata": {},
   "outputs": [],
   "source": [
    "table = table.drop(table[table['ambientes'] >= 7].index)\n",
    "table = table.drop(table[table['metros'] >= 250].index)\n",
    "table = table.drop(table[table['metros'] <= 30].index)\n",
    "table = table.drop(table[table['precio'] >= 600000].index)\n",
    "table = table.drop(table[table['banio'] >= 4].index)\n",
    "table = table.drop(table[table['banio'] >= 4].index)\n",
    "table = table.drop(table[table['banio'] >= 6].index)\n",
    "table = table.dropna()\n",
    "table = table.drop_duplicates()\n",
    "#print(tablaMedia.count())"
   ]
  },
  {
   "cell_type": "code",
   "execution_count": 6,
   "id": "3a5cd4b7-8ec8-466c-b719-1e3c6070891f",
   "metadata": {},
   "outputs": [],
   "source": [
    "tablePileta = table\n",
    "tablePileta = tablePileta.drop(tablePileta[tablePileta['pileta'] == 1].index)\n",
    "tablePileta = tablePileta.assign(pileta = 1)\n",
    "tablePileta['precio'] = tablePileta['precio'] + 5000"
   ]
  },
  {
   "cell_type": "code",
   "execution_count": 7,
   "id": "3ecb18e1-233f-4649-9551-ae672c66301e",
   "metadata": {},
   "outputs": [],
   "source": [
    "tablePatio = table\n",
    "tablePatio = tablePatio.drop(tablePatio[tablePatio['patio'] == 1].index)\n",
    "tablePatio = tablePatio.assign(patio = 1)\n",
    "tablePatio['precio'] = tablePatio['precio'] + 5000"
   ]
  },
  {
   "cell_type": "code",
   "execution_count": 8,
   "id": "b0010de0-cc1f-44dd-bc2d-9911fd535c04",
   "metadata": {},
   "outputs": [],
   "source": [
    "tableBalcon = table\n",
    "tableBalcon = tableBalcon.drop(tableBalcon[tableBalcon['balcon'] == 1].index)\n",
    "tableBalcon = tableBalcon.assign(balcon = 1)\n",
    "tableBalcon['precio'] = tableBalcon['precio'] + 5000"
   ]
  },
  {
   "cell_type": "code",
   "execution_count": 9,
   "id": "9d6af8af-a9af-4dd5-9f00-4dd9ae00d5e4",
   "metadata": {},
   "outputs": [],
   "source": [
    "result = pd.concat([table, tablePileta])\n",
    "result2 = pd.concat([result, tablePatio])\n",
    "result3 = pd.concat([result2, tableBalcon])\n",
    "#print(result3.count())"
   ]
  },
  {
   "cell_type": "code",
   "execution_count": 10,
   "id": "61f42cdd-ca55-4ce4-a188-dbeea5349959",
   "metadata": {},
   "outputs": [],
   "source": [
    "X = result3[['metros', 'ambientes', 'banio', 'cochera', 'dormitorios', 'precioxLocalidad', 'parrilla', 'patio', 'lavadero', 'toilette', 'A/C', 'balcon', 'pileta']]\n",
    "y = result3['precio']"
   ]
  },
  {
   "cell_type": "code",
   "execution_count": 11,
   "id": "15d7a44e-d57d-4a11-9682-e8bfd689a101",
   "metadata": {},
   "outputs": [
    {
     "name": "stdout",
     "output_type": "stream",
     "text": [
      "\n",
      "FOREST\n",
      "Mean Absolute Error:  29243.19\n",
      "Mean Squared Error: 1999607332.33\n",
      "R-squared scores: 0.7881281511864031\n"
     ]
    }
   ],
   "source": [
    "#FOREST\n",
    "X_train, X_test, y_train, y_test = train_test_split(X, y, test_size=0.2)\n",
    "forest = RandomForestRegressor(n_estimators = 1100, max_depth = 90)\n",
    "forest.fit(X_train, y_train.values.ravel())\n",
    "predictions = forest.predict(X_test)\n",
    "print(\"\\nFOREST\")\n",
    "mae = mean_absolute_error(y_test.values.ravel(), predictions)\n",
    "mse = mean_squared_error(y_test.values.ravel(), predictions)\n",
    "r2 = r2_score(y_test.values.ravel(), predictions)\n",
    "print('Mean Absolute Error: ', round(mae, 2))\n",
    "print('Mean Squared Error:' , round(mse, 2))\n",
    "print('R-squared scores:' , r2)"
   ]
  },
  {
   "cell_type": "code",
   "execution_count": 13,
   "id": "902ac232-e2b6-45e8-832b-098d7e5b7ecb",
   "metadata": {},
   "outputs": [
    {
     "name": "stdout",
     "output_type": "stream",
     "text": [
      "283044\n",
      "280513\n"
     ]
    },
    {
     "name": "stderr",
     "output_type": "stream",
     "text": [
      "C:\\Users\\krnnr\\Lib\\site-packages\\sklearn\\base.py:465: UserWarning: X does not have valid feature names, but RandomForestRegressor was fitted with feature names\n",
      "  warnings.warn(\n",
      "C:\\Users\\krnnr\\Lib\\site-packages\\sklearn\\base.py:465: UserWarning: X does not have valid feature names, but RandomForestRegressor was fitted with feature names\n",
      "  warnings.warn(\n"
     ]
    }
   ],
   "source": [
    "var = [ 100, 4, 3, 0, 4, 1600, 0, 0, 0, 0, 0, 0, 1]\n",
    "print(int(forest.predict([var])))\n",
    "var = [ 100, 4, 3, 0, 4, 1600, 0, 0, 0, 0, 0, 0, 0]\n",
    "print(int(forest.predict([var])))"
   ]
  },
  {
   "cell_type": "code",
   "execution_count": 14,
   "id": "fdbcc75f-275f-407f-aa03-e79a66211390",
   "metadata": {},
   "outputs": [
    {
     "data": {
      "text/plain": [
       "['forest_model.joblib']"
      ]
     },
     "execution_count": 14,
     "metadata": {},
     "output_type": "execute_result"
    }
   ],
   "source": [
    "joblib.dump(forest, \"forest_model.joblib\")"
   ]
  },
  {
   "cell_type": "code",
   "execution_count": 15,
   "id": "02808547-4c74-423d-915b-8cabdca9d425",
   "metadata": {},
   "outputs": [
    {
     "name": "stderr",
     "output_type": "stream",
     "text": [
      "C:\\Users\\krnnr\\Lib\\site-packages\\sklearn\\base.py:465: UserWarning: X does not have valid feature names, but RandomForestRegressor was fitted with feature names\n",
      "  warnings.warn(\n",
      "C:\\Users\\krnnr\\Lib\\site-packages\\sklearn\\base.py:465: UserWarning: X does not have valid feature names, but RandomForestRegressor was fitted with feature names\n",
      "  warnings.warn(\n"
     ]
    },
    {
     "data": {
      "text/plain": [
       "array([302456.4033189])"
      ]
     },
     "execution_count": 15,
     "metadata": {},
     "output_type": "execute_result"
    }
   ],
   "source": [
    "loaded_model = joblib.load(\"forest_model.joblib\")"
   ]
  },
  {
   "cell_type": "code",
   "execution_count": 16,
   "id": "2804473a-a56d-48ad-99cb-80a1335329dc",
   "metadata": {},
   "outputs": [
    {
     "name": "stdout",
     "output_type": "stream",
     "text": [
      "[302456.4033189]\n",
      "[302456.4033189]\n"
     ]
    },
    {
     "name": "stderr",
     "output_type": "stream",
     "text": [
      "C:\\Users\\krnnr\\Lib\\site-packages\\sklearn\\base.py:465: UserWarning: X does not have valid feature names, but RandomForestRegressor was fitted with feature names\n",
      "  warnings.warn(\n",
      "C:\\Users\\krnnr\\Lib\\site-packages\\sklearn\\base.py:465: UserWarning: X does not have valid feature names, but RandomForestRegressor was fitted with feature names\n",
      "  warnings.warn(\n"
     ]
    }
   ],
   "source": [
    "var = [ 200, 6, 3, 0, 4, 1478, 0, 0, 0, 0, 0, 0, 0]\n",
    "print(forest.predict([var]))\n",
    "print(loaded_model.predict([var]))"
   ]
  }
 ],
 "metadata": {
  "kernelspec": {
   "display_name": "Python 3 (ipykernel)",
   "language": "python",
   "name": "python3"
  },
  "language_info": {
   "codemirror_mode": {
    "name": "ipython",
    "version": 3
   },
   "file_extension": ".py",
   "mimetype": "text/x-python",
   "name": "python",
   "nbconvert_exporter": "python",
   "pygments_lexer": "ipython3",
   "version": "3.11.3"
  }
 },
 "nbformat": 4,
 "nbformat_minor": 5
}
